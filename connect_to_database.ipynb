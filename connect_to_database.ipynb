{
  "nbformat": 4,
  "nbformat_minor": 0,
  "metadata": {
    "colab": {
      "name": "database_connect.ipynb",
      "private_outputs": true,
      "provenance": [],
      "collapsed_sections": [],
      "include_colab_link": true
    },
    "kernelspec": {
      "name": "python3",
      "display_name": "Python 3"
    },
    "language_info": {
      "name": "python"
    }
  },
  "cells": [
    {
      "cell_type": "markdown",
      "metadata": {
        "id": "view-in-github",
        "colab_type": "text"
      },
      "source": [
        "<a href=\"https://colab.research.google.com/github/SzMK/BioD/blob/master/connect_to_database.ipynb\" target=\"_parent\"><img src=\"https://colab.research.google.com/assets/colab-badge.svg\" alt=\"Open In Colab\"/></a>"
      ]
    },
    {
      "cell_type": "markdown",
      "source": [
        "# Downloading the example database and connecting to it"
      ],
      "metadata": {
        "id": "rICKfoocWDl-"
      }
    },
    {
      "cell_type": "markdown",
      "source": [
        "## Packages needed for this project"
      ],
      "metadata": {
        "id": "S63MdwhqdDjo"
      }
    },
    {
      "cell_type": "code",
      "execution_count": null,
      "metadata": {
        "id": "lANdl3_cV0dL"
      },
      "outputs": [],
      "source": [
        "import urllib.request    # needed for download of the example database\n",
        "import shutil            # needed for unziping of the example database\n",
        "\n",
        "from sqlalchemy import * # package providing unified access to various databases\n",
        "\n",
        "import pandas as pd      # for better table visualisation"
      ]
    },
    {
      "cell_type": "markdown",
      "source": [
        "## Downloading of the example database\n",
        "\n"
      ],
      "metadata": {
        "id": "a1IVRGNfaRtY"
      }
    },
    {
      "cell_type": "markdown",
      "source": [
        "The SQLite tutorial example database is provided as a `zip` archive in `chinook.zip` file. Download it from the [SQLite tutorial web site](https://www.sqlitetutorial.net) (for example using the following Python command):  "
      ],
      "metadata": {
        "id": "rQ-8RU7YWvoa"
      }
    },
    {
      "cell_type": "code",
      "source": [
        "urllib.request.urlretrieve(\"https://www.sqlitetutorial.net/wp-content/uploads/2018/03/chinook.zip\", \"chinook.zip\")"
      ],
      "metadata": {
        "id": "HYx5ecCCV9at"
      },
      "execution_count": null,
      "outputs": []
    },
    {
      "cell_type": "markdown",
      "source": [
        "*Checkpoint:* The current directory should contain now `chinook.zip` file. Next, unpack the `zip` archive (for example using Python the following Python command):"
      ],
      "metadata": {
        "id": "Cl35eRier4tY"
      }
    },
    {
      "cell_type": "code",
      "source": [
        "shutil.unpack_archive(\"chinook.zip\")"
      ],
      "metadata": {
        "id": "XO47sQFhr4QN"
      },
      "execution_count": null,
      "outputs": []
    },
    {
      "cell_type": "markdown",
      "source": [
        "*Checkpoint:* The current directory should contain now `chinook.db` file. This is the example database in SQLite format."
      ],
      "metadata": {
        "id": "EL-8SqxSsb7c"
      }
    },
    {
      "cell_type": "markdown",
      "source": [
        "## Connect to the database and execute an SQL query"
      ],
      "metadata": {
        "id": "BFNVCOCqSFdV"
      }
    },
    {
      "cell_type": "markdown",
      "source": [
        "The following text:\n",
        "\n",
        "> SELECT * FROM albums LIMIT 5\n",
        "\n",
        "is one of the simplest possible queries in SQL. It requests to provide all (`*`) columns and `5` rows from the database table `albums`. \n",
        "\n",
        "In a Python notebook there are several ways to connect to a database and execute the query. These methods differ in type of the object used to return the query result. Study the following examples."
      ],
      "metadata": {
        "id": "9R-K87ray1Sv"
      }
    },
    {
      "cell_type": "markdown",
      "source": [
        "### Using SQLAlchemy engine object"
      ],
      "metadata": {
        "id": "sEfvAqozSXz2"
      }
    },
    {
      "cell_type": "markdown",
      "source": [
        "Open the connection to the SQLite database in the `chinook.db` file by creating the database `engine` connector object as follows:"
      ],
      "metadata": {
        "id": "Cl9AvfYxaEUM"
      }
    },
    {
      "cell_type": "code",
      "source": [
        "# To get the engine object import create_engine function from SQLAlchemy package:\n",
        "# \n",
        "# from sqlalchemy import create_engine \n",
        "#\n",
        "engine = create_engine(\"sqlite:///chinook.db\")"
      ],
      "metadata": {
        "id": "N8dC-SBSagfc"
      },
      "execution_count": null,
      "outputs": []
    },
    {
      "cell_type": "markdown",
      "source": [
        "Using the following code you may send an SQL query `sql` to the database through the `engine` connector.  \n",
        "In the `arr` variable you will get the resulting table provided as a list of tuples."
      ],
      "metadata": {
        "id": "9BMBlwcCq_BH"
      }
    },
    {
      "cell_type": "code",
      "source": [
        "sql = text(\"SELECT * FROM albums LIMIT 5\")\n",
        "arr = engine.execute(sql).fetchall()\n",
        "arr"
      ],
      "metadata": {
        "id": "ByEJ5p4MqbYi"
      },
      "execution_count": null,
      "outputs": []
    },
    {
      "cell_type": "markdown",
      "source": [
        "The following code will execute the same `sql` query through the `engine` but the result will be provided as a Panda's `DataFrame` object in the variable `df`."
      ],
      "metadata": {
        "id": "9EvD-rQ4qQpH"
      }
    },
    {
      "cell_type": "code",
      "source": [
        "# For this method import pandas package:\n",
        "#\n",
        "# import pandas as pd\n",
        "#\n",
        "sql = text(\"SELECT * FROM albums LIMIT 5\")\n",
        "df = pd.read_sql(sql, engine)\n",
        "df"
      ],
      "metadata": {
        "id": "5rpAhpp7dqQ7"
      },
      "execution_count": null,
      "outputs": []
    },
    {
      "cell_type": "markdown",
      "source": [
        "### Using Python magic connector"
      ],
      "metadata": {
        "id": "-sHoQ3NXx2--"
      }
    },
    {
      "cell_type": "markdown",
      "source": [
        "When the Python script works with a single database only and extra Python language extensions are allowed the following notation might be used. The following code creates the database engine connector object in a hidden variable and allows for the magic `%sql` to be used in the code chunks."
      ],
      "metadata": {
        "id": "1qOYal2pyLW-"
      }
    },
    {
      "cell_type": "code",
      "source": [
        "%load_ext sql\n",
        "%sql sqlite:///chinook.db"
      ],
      "metadata": {
        "id": "uxnr5PHPw5cA"
      },
      "execution_count": null,
      "outputs": []
    },
    {
      "cell_type": "markdown",
      "source": [
        "Using the magic sql connector this is a short way to execute a directly typed single line SQL query and print the result:"
      ],
      "metadata": {
        "id": "IYFtLDy1xW5g"
      }
    },
    {
      "cell_type": "code",
      "source": [
        "%sql SELECT * FROM albums LIMIT 5"
      ],
      "metadata": {
        "id": "GY6Pi6j1zRFh"
      },
      "execution_count": null,
      "outputs": []
    },
    {
      "cell_type": "markdown",
      "source": [
        "The following code may be used to convert the result to Panda's `DataFrame`:"
      ],
      "metadata": {
        "id": "M3GnpwvEVPcm"
      }
    },
    {
      "cell_type": "code",
      "source": [
        "res = %sql SELECT * FROM albums LIMIT 5\n",
        "df = res.DataFrame()\n",
        "df"
      ],
      "metadata": {
        "id": "3rwT47svvS9e"
      },
      "execution_count": null,
      "outputs": []
    },
    {
      "cell_type": "markdown",
      "source": [
        "To print results of longer SQL commands which do not fit in a single line use double-percent notation `%%sql` as below:"
      ],
      "metadata": {
        "id": "qq9v_hmPAHa5"
      }
    },
    {
      "cell_type": "code",
      "source": [
        "%%sql\n",
        "SELECT trackid, composer, unitprice FROM tracks LIMIT 5"
      ],
      "metadata": {
        "id": "szQ147kf5Yb7"
      },
      "execution_count": null,
      "outputs": []
    },
    {
      "cell_type": "markdown",
      "source": [
        "### By Mo"
      ],
      "metadata": {
        "id": "qFhF-TtZALlV"
      }
    },
    {
      "cell_type": "markdown",
      "source": [
        "**Order By:**\n",
        "\n",
        "To sort the result set, you add the ORDER BY clause to the  SELECT statement. \n",
        "\n",
        "*The ORDER BY clause comes after the FROM clause.* \n",
        "\n",
        "*   The `ASC` keyword means ascending.\n",
        "\n",
        "*   And the `DESC` keyword means descending.\n",
        "\n",
        "*Note: If you don’t specify the ASC or DESC keyword, SQLite sorts the result set using the ASC option. In other words, it sorts the result set in the ascending order by default.*\n",
        "\n"
      ],
      "metadata": {
        "id": "gsav59t38wQY"
      }
    },
    {
      "cell_type": "markdown",
      "source": [
        "Suppose you want to sort the result set based on `AlbumId` column in **ascending** order, you use the following statement:"
      ],
      "metadata": {
        "id": "-90-YDN_JwBU"
      }
    },
    {
      "cell_type": "code",
      "source": [
        " %%sql \n",
        " SELECT \n",
        "  name,\n",
        "\tmilliseconds, \n",
        "\talbumid\n",
        "FROM\n",
        "\ttracks\n",
        "ORDER BY\n",
        "\talbumid ASC\n",
        "\n"
      ],
      "metadata": {
        "id": "MgPH23VS8quk"
      },
      "execution_count": null,
      "outputs": []
    },
    {
      "cell_type": "markdown",
      "source": [
        "Suppose you want to sort the sorted result (by `AlbumId`) above by the `Milliseconds` column in **descending** order. In this case, you need to add the `Milliseconds` column to the `ORDER BY` clause as follows:\n",
        "\n",
        "*SQLite sorts rows by `AlbumId` column in ascending order first. Then, it sorts the sorted result set by the `Milliseconds` column in descending order.*"
      ],
      "metadata": {
        "id": "jDHQYcyO89ww"
      }
    },
    {
      "cell_type": "code",
      "source": [
        " %%sql \n",
        " SELECT \n",
        "  name,\n",
        "\tmilliseconds, \n",
        "\talbumid\n",
        "FROM\n",
        "\ttracks\n",
        "ORDER BY\n",
        "\talbumid ASC,\n",
        "  milliseconds DESC\n"
      ],
      "metadata": {
        "id": "A7DVrnzS8vqX"
      },
      "execution_count": null,
      "outputs": []
    },
    {
      "cell_type": "markdown",
      "source": [
        "**Sorting NULLs**\n",
        "\n",
        "SQLite considers NULL to be smaller than any other value.\n",
        "It means that NULLs will appear at the beginning of the result set if you use ASC or at the end of the result set when you use DESC.\n",
        "\n",
        "SQLite 3.30.0 added the `NULLS FIRST` and `NULLS LAST` options to the `ORDER BY`clause. The `NULLS FIRST` option specifies that the NULLs will appear at the beginning of the result set while the `NULLS LAST` option place NULLs at the end of the result set."
      ],
      "metadata": {
        "id": "XvOx_3B7_BEl"
      }
    },
    {
      "cell_type": "code",
      "source": [
        "%%sql\n",
        "SELECT \n",
        "  name,\n",
        "\ttrackid, \n",
        "\tComposer\n",
        "FROM\n",
        "\ttracks\n",
        "ORDER BY\n",
        " Composer "
      ],
      "metadata": {
        "id": "J_bRo2sy_gRf"
      },
      "execution_count": null,
      "outputs": []
    },
    {
      "cell_type": "markdown",
      "source": [
        "The following example uses the `NULLS LAST` option to place NULLs after other values:\n",
        "\n"
      ],
      "metadata": {
        "id": "cQwJaWoFM1YD"
      }
    },
    {
      "cell_type": "code",
      "source": [
        "%%sql\n",
        "SELECT \n",
        "  name,\n",
        "\ttrackid, \n",
        "\tComposer\n",
        "FROM\n",
        "\ttracks\n",
        "ORDER BY\n",
        "  Composer NULLS LAST"
      ],
      "metadata": {
        "id": "qtq3RkpSM3M_"
      },
      "execution_count": null,
      "outputs": []
    },
    {
      "cell_type": "markdown",
      "source": [
        "**Filtering out**\n",
        "\n",
        "The `DISTINCT` clause allows you to remove the duplicate rows in the result set."
      ],
      "metadata": {
        "id": "IpKM8-0tOJZC"
      }
    },
    {
      "cell_type": "code",
      "source": [
        "%%sql\n",
        "SELECT city\n",
        "FROM customers\n",
        "ORDER BY city\n",
        "Limit 10"
      ],
      "metadata": {
        "id": "OwBebEceOX8H"
      },
      "execution_count": null,
      "outputs": []
    },
    {
      "cell_type": "code",
      "source": [
        "%%sql\n",
        "SELECT  DISTINCT city\n",
        "FROM customers\n",
        "ORDER BY city\n",
        "Limit 10"
      ],
      "metadata": {
        "id": "dK7SsSccOtDs"
      },
      "execution_count": null,
      "outputs": []
    },
    {
      "cell_type": "markdown",
      "source": [
        "**SQLite SELECT DISTINCT with NULL example**\n"
      ],
      "metadata": {
        "id": "KbmjLitCPOq6"
      }
    },
    {
      "cell_type": "markdown",
      "source": [
        "This statement returns the names of companies of customers from the `customers` \n",
        "table.\n",
        "\n",
        "\n",
        "\n",
        "\n"
      ],
      "metadata": {
        "id": "QzJkBkomk281"
      }
    },
    {
      "cell_type": "code",
      "source": [
        "%%sql\n",
        "SELECT company\n",
        "FROM customers;"
      ],
      "metadata": {
        "id": "vzIOusEuPWco"
      },
      "execution_count": null,
      "outputs": []
    },
    {
      "cell_type": "markdown",
      "source": [
        "Now, if you apply the `DISTINCT` clause to the statement, it will keep only one row with a `NULL` value.\n",
        "\n"
      ],
      "metadata": {
        "id": "rgVS2q-mkvFd"
      }
    },
    {
      "cell_type": "code",
      "source": [
        "%%sql\n",
        "SELECT DISTINCT company\n",
        "FROM customers;"
      ],
      "metadata": {
        "id": "su3qM0mxPca5"
      },
      "execution_count": null,
      "outputs": []
    },
    {
      "cell_type": "markdown",
      "source": [
        "**WHERE clause**\n",
        "\n",
        "Add a `WHERE` clause to the `SELECT` statement to filter rows returned by the query."
      ],
      "metadata": {
        "id": "BO4pTsrllqEU"
      }
    },
    {
      "cell_type": "markdown",
      "source": [
        "The following query uses the `WHERE` clause the equality operator to find all the tracks in the album id 1:"
      ],
      "metadata": {
        "id": "aq-HdZXXmyHe"
      }
    },
    {
      "cell_type": "code",
      "source": [
        "%%sql\n",
        "SELECT\n",
        "  name,\n",
        "\tmilliseconds, \n",
        "\tbytes,\n",
        "  albumid\n",
        "FROM \n",
        "  tracks \n",
        "WHERE\n",
        "  albumid = 1 "
      ],
      "metadata": {
        "id": "7WedzcUkmDBp"
      },
      "execution_count": null,
      "outputs": []
    },
    {
      "cell_type": "markdown",
      "source": [
        "**SQLite comparison operators**\n",
        "\n",
        "Equal to =\n",
        "\n",
        "Not equal to <>or!=\n",
        "\n",
        "Less than <\n",
        "\n",
        "Greater than > \n",
        "\n",
        "Less than or equal to <= \n",
        "\n",
        "Greater than or equal to >= \n"
      ],
      "metadata": {
        "id": "6CJcFPYUyaN4"
      }
    },
    {
      "cell_type": "markdown",
      "source": [
        "**SQLite logical operators**\n",
        "\n",
        "\n",
        "**ALL**\treturns 1 if all expressions are 1.\n",
        "\n",
        "**AND**\treturns 1 if both expressions are 1, and 0 if one of the expressions is 0.\n",
        "\n",
        "**ANY**\treturns 1 if any one of a set of comparisons is 1.\n",
        "\n",
        "**BETWEEN**\treturns 1 if a value is within a range.\n",
        "\n",
        "**EXISTS**\treturns 1 if a subquery contains any rows.\n",
        "\n",
        "**IN**\treturns 1 if a value is in a list of values.\n",
        "\n",
        "**LIKE**\treturns 1 if a value matches a pattern\n",
        "\n",
        "**NOT**\treverses the value of other operators such as NOT EXISTS, NOT IN, NOT BETWEEN, etc.\n",
        "\n",
        "**OR**\treturns true if either expression is 1"
      ],
      "metadata": {
        "id": "I0VEEGfAzIk0"
      }
    },
    {
      "cell_type": "markdown",
      "source": [
        " To get tracks of the album 1 that have the length greater than 200,000 milliseconds, you use the following statement:"
      ],
      "metadata": {
        "id": "OYbLWS3TorkW"
      }
    },
    {
      "cell_type": "code",
      "source": [
        "%%sql\n",
        "SELECT\n",
        "\tname,\n",
        "\tmilliseconds,\n",
        "\tbytes,\n",
        "\talbumid\n",
        "FROM\n",
        "\ttracks\n",
        "WHERE\n",
        "\talbumid = 1\n",
        "AND milliseconds > 250000"
      ],
      "metadata": {
        "id": "MCITkmVior6M"
      },
      "execution_count": null,
      "outputs": []
    },
    {
      "cell_type": "markdown",
      "source": [
        "**SQLite `WHERE` clause with `LIKE` operator example**\n",
        "\n",
        "\n",
        "Sometimes, you may not remember exactly the data that you want to search. In this case, you perform an inexact search using the `LIKE` operator."
      ],
      "metadata": {
        "id": "ZZ_vkwDmpBD3"
      }
    },
    {
      "cell_type": "markdown",
      "source": [
        "For example, to find which tracks composed by Smith, you use the `LIKE` operator as follows:"
      ],
      "metadata": {
        "id": "cOm7Gry1pkTU"
      }
    },
    {
      "cell_type": "code",
      "source": [
        "%%sql\n",
        "SELECT\n",
        "\tname,\n",
        "\talbumid,\n",
        "\tcomposer\n",
        "FROM\n",
        "\ttracks\n",
        "WHERE\n",
        "\tcomposer LIKE '%Smith%'\n",
        "ORDER BY\n",
        "\talbumid"
      ],
      "metadata": {
        "id": "1fW9lBPopldR"
      },
      "execution_count": null,
      "outputs": []
    },
    {
      "cell_type": "markdown",
      "source": [
        "**SQLite WHERE clause with the `IN` operator example**\n",
        "\n",
        "The `IN` operator allows you to check whether a value is in a list of a comma-separated list of values. For example, to find tracks that have media type id is 2 or 3, you use the `IN` operator as shown in the following statement:"
      ],
      "metadata": {
        "id": "Meup4tIXpunM"
      }
    },
    {
      "cell_type": "code",
      "source": [
        "%%sql\n",
        "SELECT\n",
        "\tname,\n",
        "\talbumid,\n",
        "\tmediatypeid\n",
        "FROM\n",
        "\ttracks\n",
        "WHERE\n",
        "\tmediatypeid IN (2, 3)"
      ],
      "metadata": {
        "id": "FnVzbeuTp-aX"
      },
      "execution_count": null,
      "outputs": []
    },
    {
      "cell_type": "markdown",
      "source": [
        "\n",
        "**LIMIT**\n",
        "to get the first 10 rows in the `tracks` table, you use the following statement:"
      ],
      "metadata": {
        "id": "h4UeRKmfrD84"
      }
    },
    {
      "cell_type": "code",
      "source": [
        "%%sql\n",
        "SELECT\n",
        "\ttrackId,\n",
        "\tname\n",
        "FROM\n",
        "\ttracks\n",
        "LIMIT 10;"
      ],
      "metadata": {
        "id": "vSf-7Vh0sgbU"
      },
      "execution_count": null,
      "outputs": []
    },
    {
      "cell_type": "markdown",
      "source": [
        "If you want to get the first 10 rows starting from the 10th row of the result set, you use `OFFSET` keyword as the following:\n",
        "\n"
      ],
      "metadata": {
        "id": "Bzn9emUvtVqB"
      }
    },
    {
      "cell_type": "code",
      "source": [
        "%%sql\n",
        "SELECT\n",
        "\ttrackId,\n",
        "\tname\n",
        "FROM\n",
        "\ttracks\n",
        "LIMIT 10 OFFSET 10"
      ],
      "metadata": {
        "id": "yGfWuXL9tF3I"
      },
      "execution_count": null,
      "outputs": []
    },
    {
      "cell_type": "markdown",
      "source": [
        "Or you can use the following shorthand syntax of the` LIMIT OFFSET` clause:\n",
        "\n"
      ],
      "metadata": {
        "id": "hdQRhoO0taUa"
      }
    },
    {
      "cell_type": "markdown",
      "source": [
        "`LIMIT row_count OFFSET offset`\n"
      ],
      "metadata": {
        "id": "wFysk0UDtnCd"
      }
    },
    {
      "cell_type": "code",
      "source": [
        ""
      ],
      "metadata": {
        "id": "g8FOo-zTwbtF"
      },
      "execution_count": null,
      "outputs": []
    },
    {
      "cell_type": "code",
      "source": [
        "%%sql\n",
        "SELECT\n",
        "\ttrackId,\n",
        "\tname\n",
        "FROM\n",
        "\ttracks\n",
        "LIMIT 15, 10"
      ],
      "metadata": {
        "id": "U3ws3U4-tdmR"
      },
      "execution_count": null,
      "outputs": []
    },
    {
      "cell_type": "markdown",
      "source": [
        "Getting the highest OR the lowest value\n",
        "\n",
        "The following statement returns the second-longest track in the tracks table.\n",
        "\n"
      ],
      "metadata": {
        "id": "G6kX2o-ewhMT"
      }
    },
    {
      "cell_type": "markdown",
      "source": [
        ""
      ],
      "metadata": {
        "id": "C53gi4Vcwsmp"
      }
    },
    {
      "cell_type": "code",
      "source": [
        "%%sql\n",
        "SELECT\n",
        "\ttrackid,\n",
        "\tname,\n",
        "\tmilliseconds\n",
        "FROM\n",
        "\ttracks\n",
        "ORDER BY\n",
        "\tmilliseconds DESC\n",
        "LIMIT 1 OFFSET 1"
      ],
      "metadata": {
        "id": "dIMAGSzRwtXU"
      },
      "execution_count": null,
      "outputs": []
    },
    {
      "cell_type": "markdown",
      "source": [
        "**SQLite BETWEEN**\n"
      ],
      "metadata": {
        "id": "KUdvkm5vws1t"
      }
    },
    {
      "cell_type": "markdown",
      "source": [
        ""
      ],
      "metadata": {
        "id": "PUd8PId1yOX2"
      }
    },
    {
      "cell_type": "markdown",
      "source": [
        "The following statement finds invoices whose total is `between` 14.96 and 18.86:\n",
        "\n"
      ],
      "metadata": {
        "id": "iVZWVKZO0srh"
      }
    },
    {
      "cell_type": "code",
      "source": [
        "%%sql\n",
        "SELECT\n",
        "    InvoiceId,\n",
        "    BillingAddress,\n",
        "    Total\n",
        "FROM\n",
        "    invoices\n",
        "WHERE\n",
        "    Total BETWEEN 14.91 and 18.86    \n",
        "ORDER BY\n",
        "    Total"
      ],
      "metadata": {
        "id": "UiX4VClww37W"
      },
      "execution_count": null,
      "outputs": []
    },
    {
      "cell_type": "markdown",
      "source": [
        "To find the invoices whose total are not between 1 and 20, you use the `NOT BETWEEN` operator as shown in the following query:\n",
        "\n"
      ],
      "metadata": {
        "id": "1RNGr4W10uVi"
      }
    },
    {
      "cell_type": "code",
      "source": [
        "%%sql\n",
        "SELECT\n",
        "    InvoiceId,\n",
        "    BillingAddress,\n",
        "    Total\n",
        "FROM\n",
        "    invoices\n",
        "WHERE\n",
        "    Total NOT BETWEEN 1 and 20\n",
        "ORDER BY\n",
        "    Total"
      ],
      "metadata": {
        "id": "YSHL0auN0QkW"
      },
      "execution_count": null,
      "outputs": []
    },
    {
      "cell_type": "markdown",
      "source": [
        "The following example finds invoices whose invoice dates are from `January 1 2010` and `January 31 2010`\n",
        "\n"
      ],
      "metadata": {
        "id": "kpQ3O9C305o5"
      }
    },
    {
      "cell_type": "code",
      "source": [
        "%%sql\n",
        "SELECT\n",
        "    InvoiceId,\n",
        "    BillingAddress,\n",
        "    InvoiceDate,\n",
        "    Total\n",
        "FROM\n",
        "    invoices\n",
        "WHERE\n",
        "    InvoiceDate BETWEEN '2010-01-01' AND '2010-01-31'\n",
        "ORDER BY\n",
        "    InvoiceDate"
      ],
      "metadata": {
        "id": "-5PvCJJ209aD"
      },
      "execution_count": null,
      "outputs": []
    },
    {
      "cell_type": "markdown",
      "source": [
        "**SQLite IN**\n"
      ],
      "metadata": {
        "id": "PvJ-1Wwz1lL3"
      }
    },
    {
      "cell_type": "code",
      "source": [
        "%%sql\n",
        "SELECT\n",
        "\tTrackId,\n",
        "\tName,\n",
        "\tMediatypeid\n",
        "FROM\n",
        "\tTracks\n",
        "WHERE\n",
        "\tMediaTypeId IN (1, 2)\n",
        "ORDER BY\n",
        "\tName ASC"
      ],
      "metadata": {
        "id": "dXTXBE6t1wMT"
      },
      "execution_count": null,
      "outputs": []
    },
    {
      "cell_type": "markdown",
      "source": [
        "This query uses the `OR` operator instead of the `IN` operator to return the same result set as the above query:"
      ],
      "metadata": {
        "id": "tP6CWJgH1vt0"
      }
    },
    {
      "cell_type": "code",
      "source": [
        "%%sql\n",
        "SELECT\n",
        "\tTrackId,\n",
        "\tName,\n",
        "\tMediaTypeId\n",
        "FROM\n",
        "\tTracks\n",
        "WHERE\n",
        "\tMediaTypeId = 1 OR MediaTypeId = 2\n",
        "ORDER BY\n",
        "\tName ASC"
      ],
      "metadata": {
        "id": "PyH5sKGS18H0"
      },
      "execution_count": null,
      "outputs": []
    },
    {
      "cell_type": "markdown",
      "source": [
        "To get the tracks that belong to the artist id 12, you can combine the `IN` operator with a subquery as follows:\n",
        "\n"
      ],
      "metadata": {
        "id": "wOrM1qqo4RYZ"
      }
    },
    {
      "cell_type": "code",
      "source": [
        "%%sql\n",
        "SELECT\n",
        "\tTrackId, \n",
        "\tName, \n",
        "\tAlbumId\n",
        "FROM\n",
        "\tTracks\n",
        "WHERE\n",
        "\tAlbumId IN (\n",
        "\t\tSELECT\n",
        "\t\t\tAlbumId\n",
        "\t\tFROM\n",
        "\t\t\tAlbums\n",
        "\t\tWHERE\n",
        "\t\t\tArtistId = 12\n",
        "\t)"
      ],
      "metadata": {
        "id": "d5d35x6o4Twv"
      },
      "execution_count": null,
      "outputs": []
    },
    {
      "cell_type": "markdown",
      "source": [
        "**SQLite NOT IN examples**\n",
        "The following statement returns a list of tracks whose genre id is not in a list of (1,2,3)."
      ],
      "metadata": {
        "id": "jIrNd4045RxC"
      }
    },
    {
      "cell_type": "code",
      "source": [
        "%%sql\n",
        "SELECT\n",
        "\ttrackid,\n",
        "\tname,\n",
        "\tgenreid\n",
        "FROM\n",
        "\ttracks\n",
        "WHERE\n",
        "\tgenreid NOT IN (1, 2,3)"
      ],
      "metadata": {
        "id": "xLoS9w5A5UhP"
      },
      "execution_count": null,
      "outputs": []
    },
    {
      "cell_type": "markdown",
      "source": [
        "**SQLite LIKE**\n"
      ],
      "metadata": {
        "id": "AK-OT9qe5iUD"
      }
    },
    {
      "cell_type": "markdown",
      "source": [
        "To find the tracks whose names start with the `Wild` literal string, you use the percent sign `%` wildcard at the end of the pattern.\n",
        "\n"
      ],
      "metadata": {
        "id": "cyv5wW1s5r41"
      }
    },
    {
      "cell_type": "code",
      "source": [
        "%%sql\n",
        "SELECT\n",
        "\ttrackid,\n",
        "\tname\t\n",
        "FROM\n",
        "\ttracks\n",
        "WHERE\n",
        "\tname LIKE 'Wild%'"
      ],
      "metadata": {
        "id": "FmPuZOqI5xBu"
      },
      "execution_count": null,
      "outputs": []
    },
    {
      "cell_type": "markdown",
      "source": [
        "To find the tracks whose names end with `Wild` word, you use `%` wildcard at the beginning of the pattern.\n",
        "\n"
      ],
      "metadata": {
        "id": "sO-etFX951gL"
      }
    },
    {
      "cell_type": "code",
      "source": [
        "%%sql\n",
        "SELECT\n",
        "\ttrackid,\n",
        "\tname\n",
        "FROM\n",
        "\ttracks\n",
        "WHERE\n",
        "\tname LIKE '%Wild'"
      ],
      "metadata": {
        "id": "8nL6oefP55QR"
      },
      "execution_count": null,
      "outputs": []
    },
    {
      "cell_type": "markdown",
      "source": [
        "To find the tracks whose names contain the `Wild` literal string, you use `%` wildcard at the beginning and end of the pattern:\n",
        "\n"
      ],
      "metadata": {
        "id": "AX2Nzu2x6Cro"
      }
    },
    {
      "cell_type": "code",
      "source": [
        "%%sql\n",
        "SELECT\n",
        "\ttrackid,\n",
        "\tname\t\n",
        "FROM\n",
        "\ttracks\n",
        "WHERE\n",
        "\tname LIKE '%Wild%'"
      ],
      "metadata": {
        "id": "D1Mo090X6Euq"
      },
      "execution_count": null,
      "outputs": []
    },
    {
      "cell_type": "markdown",
      "source": [
        "The following statement finds the tracks whose names contain: zero or more characters (`%`), followed by `Br`, followed by a character ( `_`), followed by `wn`, and followed by zero or more characters ( `%`)."
      ],
      "metadata": {
        "id": "wBqbeH1D6YgC"
      }
    },
    {
      "cell_type": "code",
      "source": [
        "%%sql\n",
        "SELECT\n",
        "\ttrackid,\n",
        "\tname\n",
        "FROM\n",
        "\ttracks\n",
        "WHERE\n",
        "\tname LIKE '%Br_wn%'"
      ],
      "metadata": {
        "id": "VyTm2Slu6iqB"
      },
      "execution_count": null,
      "outputs": []
    },
    {
      "cell_type": "code",
      "source": [
        "%%sql\n",
        "SELECT\n",
        "trackId,\n",
        "name\n",
        "FROM\n",
        "tracks\n",
        "WHERE name REGEXP 'wn$'"
      ],
      "metadata": {
        "id": "hHPr8r652AzR"
      },
      "execution_count": null,
      "outputs": []
    },
    {
      "cell_type": "markdown",
      "source": [
        "How to get the record witj missing values?\n",
        "\n",
        "SQLite IS NULL\n"
      ],
      "metadata": {
        "id": "dLyJOeMH3wTj"
      }
    },
    {
      "cell_type": "code",
      "source": [
        "%%sql\n",
        "SELECT\n",
        "    Name, \n",
        "    Composer\n",
        "FROM\n",
        "    tracks\n",
        "WHERE\n",
        "    Composer IS NULL\n",
        "ORDER BY \n",
        "    Name"
      ],
      "metadata": {
        "id": "AoanhaZO35Kd"
      },
      "execution_count": null,
      "outputs": []
    },
    {
      "cell_type": "markdown",
      "source": [
        "SQLite IS NOT NULL operator\n"
      ],
      "metadata": {
        "id": "fSP5sX1Uz9nC"
      }
    },
    {
      "cell_type": "code",
      "source": [
        "%%sql\n",
        "SELECT\n",
        "    Name, \n",
        "    Composer\n",
        "FROM\n",
        "    tracks\n",
        "WHERE\n",
        "    Composer IS NOT NULL"
      ],
      "metadata": {
        "id": "igTxBNgj34WV"
      },
      "execution_count": null,
      "outputs": []
    },
    {
      "cell_type": "markdown",
      "source": [
        "**SQLite Join**\n",
        "So far we selected column from single tables\n",
        "In the real world,  we need select columns from multple tables. "
      ],
      "metadata": {
        "id": "2DngYr0m4VD3"
      }
    },
    {
      "cell_type": "markdown",
      "source": [
        "**Inner Join:**\n",
        "In the example below, the `INNER JOIN` clause matches each row from the `albums` table with every row from the `artists` table based on the `join` condition (`artists.ArtistId = albums.ArtistId`) specified after the `ON` keyword."
      ],
      "metadata": {
        "id": "aU2NqJKYLQjV"
      }
    },
    {
      "cell_type": "code",
      "source": [
        "%%sql\n",
        "SELECT \n",
        "  Title,\n",
        "  Name\n",
        "FROM \n",
        "  Albums\n",
        "INNER JOIN artists\n",
        "ON artists.ArtistId = albums.ArtistId\n"
      ],
      "metadata": {
        "id": "WgMf_Cv3I2Sb"
      },
      "execution_count": null,
      "outputs": []
    },
    {
      "cell_type": "markdown",
      "source": [
        "This query uses table aliases (`l` for the `albums` table and `r` for `artists` table) to shorten the query:\n",
        "\n"
      ],
      "metadata": {
        "id": "3ysabAaNbxM-"
      }
    },
    {
      "cell_type": "code",
      "source": [
        "%%sql\n",
        "SELECT\n",
        "    l.Title, \n",
        "    r.Name\n",
        "FROM\n",
        "    albums l\n",
        "INNER JOIN artists r ON\n",
        "    r.ArtistId = l.ArtistId"
      ],
      "metadata": {
        "id": "zgkxDumDb2eA"
      },
      "execution_count": null,
      "outputs": []
    },
    {
      "cell_type": "markdown",
      "source": [
        "In case the column names of joined tables are the same e.g., `ArtistId`, you can use the `USING` syntax as follows:\n",
        "\n",
        "The clause `USING(ArtistId)` is equipvalent to the clause `ON artists.ArtistId = albums.ArtistId`."
      ],
      "metadata": {
        "id": "E1fANHKJg5N0"
      }
    },
    {
      "cell_type": "code",
      "source": [
        "%%sql\n",
        "SELECT\n",
        "   Title, \n",
        "   Name\n",
        "FROM\n",
        "   albums\n",
        "INNER JOIN artists USING(ArtistId)"
      ],
      "metadata": {
        "id": "UqgGdrffhE8T"
      },
      "execution_count": null,
      "outputs": []
    },
    {
      "cell_type": "markdown",
      "source": [
        "The `INNER JOIN` clause combines columns from correlated tables.\n",
        "\n",
        "Suppose you have two tables: `A` and `B`.\n",
        "\n",
        "A has `a1`, `a2`, and `f` columns. `B` has `b1`, `b2`, and `f` column. The `A` table links to the `B` table using a foreign key column named `f`.\n",
        "\n",
        "The following illustrates the syntax of the `inner join` clause:\n",
        "\n",
        "\n",
        "\n",
        "`SELECT a1, a2, b1, b2`\n",
        "\n",
        "`FROM A`\n",
        "\n",
        "`INNER JOIN B on B.f = A.f`\n",
        "\n",
        "\n",
        "For each row in the A table, the `INNER JOIN` clause compares the value of the f column with the value of the f column in the B table. If the value of the f column in the A table equals the value of the f column in the B table, it combines data from a1, a2, b1, b2, columns and includes this row in the result set.\n"
      ],
      "metadata": {
        "id": "1RnSg8nB2Ghx"
      }
    },
    {
      "cell_type": "markdown",
      "source": [
        "Let’s take a look at the `tracks` and `albums` tables in the sample database. The `tracks` table links to the `albums` table via `AlbumId` column.\n",
        "\n",
        "In the `tracks` table, the `AlbumId` column is a foreign key. And in the `albums` table, the `AlbumId` is the primary key.\n",
        "\n",
        "*If SQLite finds a match, it combines data of rows in both tables in the result set.*"
      ],
      "metadata": {
        "id": "FnLI_XJS6S7h"
      }
    },
    {
      "cell_type": "code",
      "source": [
        "%%sql\n",
        "SELECT\n",
        "\ttrackid,\n",
        "\tname,\n",
        "\ttitle\n",
        "FROM\n",
        "\ttracks\n",
        "INNER JOIN albums ON albums.albumid = tracks.albumid"
      ],
      "metadata": {
        "id": "_sMhO6Hl6nHc"
      },
      "execution_count": null,
      "outputs": []
    },
    {
      "cell_type": "markdown",
      "source": [
        "If you want to include the AlbumID, you have to define a name by `AS` function"
      ],
      "metadata": {
        "id": "Qc8oyYhO7CR3"
      }
    },
    {
      "cell_type": "code",
      "source": [
        "%%sql\n",
        "SELECT\n",
        "    trackid,\n",
        "    name,\n",
        "    tracks.albumid AS album_id_tracks,\n",
        "    albums.albumid AS album_id_albums,\n",
        "    title\n",
        "FROM\n",
        "    tracks\n",
        "    INNER JOIN albums ON albums.albumid = tracks.albumid    \n"
      ],
      "metadata": {
        "id": "mxyU8gcg7Mq-"
      },
      "execution_count": null,
      "outputs": []
    },
    {
      "cell_type": "markdown",
      "source": [
        "`SQLite inner join – 3 tables example`\n",
        "Tables: `tracks`, `albums`, `artists`\n",
        "\n",
        "One track belongs to one album and one album have many tracks. The `tracks` table associated with the `albums` table via `albumid` column.\n",
        "\n",
        "One album belongs to one artist and one artist has one or many albums. The `albums` table links to the `artists` table via `artistid` column."
      ],
      "metadata": {
        "id": "sVRiKsFb7eYj"
      }
    },
    {
      "cell_type": "code",
      "source": [
        "%%sql\n",
        "SELECT\n",
        "    trackid,\n",
        "    tracks.name AS track,\n",
        "    albums.title AS album,\n",
        "    artists.name AS artist\n",
        "FROM\n",
        "    tracks\n",
        "    INNER JOIN albums ON albums.albumid = tracks.albumid\n",
        "    INNER JOIN artists ON artists.artistid = albums.artistid\n",
        "    LIMIT 10"
      ],
      "metadata": {
        "id": "o8gHz9Jo8IOr"
      },
      "execution_count": null,
      "outputs": []
    },
    {
      "cell_type": "markdown",
      "source": [
        "You can use a `WHERE` clause to get the tracks and albums of the artist with id 10 as the following statement:\n",
        "\n"
      ],
      "metadata": {
        "id": "peTQrHEp8ToI"
      }
    },
    {
      "cell_type": "code",
      "source": [
        "%%sql\n",
        "SELECT\n",
        "\ttrackid,\n",
        "\ttracks.name AS Track,\n",
        "\talbums.title AS Album,\n",
        "\tartists.name AS Artist\n",
        "FROM\n",
        "\ttracks\n",
        "INNER JOIN albums ON albums.albumid = tracks.albumid\n",
        "INNER JOIN artists ON artists.artistid = albums.artistid\n",
        "WHERE\n",
        "\tartists.artistid = 10"
      ],
      "metadata": {
        "id": "BhnVB9n78Xp7"
      },
      "execution_count": null,
      "outputs": []
    },
    {
      "cell_type": "markdown",
      "source": [
        ""
      ],
      "metadata": {
        "id": "f5rFrtyd4FZa"
      }
    },
    {
      "cell_type": "markdown",
      "source": [
        "**Left Join**\n",
        "The`LEFT JOIN` clause selects data starting from the left table (`artists`) and matching rows in the right table (`albums`) based on the join condition (`artists.ArtistId = albums.ArtistId`) .\n"
      ],
      "metadata": {
        "id": "gFR7tVdHkJ_s"
      }
    },
    {
      "cell_type": "code",
      "source": [
        "%%sql\n",
        "SELECT\n",
        "    Name, \n",
        "    Title\n",
        "FROM\n",
        "    artists\n",
        "LEFT JOIN albums ON\n",
        "    artists.ArtistId = albums.ArtistId\n",
        "ORDER BY Name"
      ],
      "metadata": {
        "id": "NO9hYiHPkbTr"
      },
      "execution_count": null,
      "outputs": []
    },
    {
      "cell_type": "markdown",
      "source": [
        "If you want to find artists who don’t have any albums, you can add a WHERE clause as shown in the following query:\n",
        "\n"
      ],
      "metadata": {
        "id": "-m3EHKY_kiKf"
      }
    },
    {
      "cell_type": "code",
      "source": [
        "%%sql\n",
        "SELECT\n",
        "    Name,\n",
        "    Title\n",
        "FROM\n",
        "    artists\n",
        "LEFT JOIN albums ON\n",
        "    artists.ArtistId = albums.ArtistId\n",
        "WHERE Title IS NULL   \n",
        "ORDER BY Name"
      ],
      "metadata": {
        "id": "k6ly2LG8kmJV"
      },
      "execution_count": null,
      "outputs": []
    },
    {
      "cell_type": "markdown",
      "source": [
        "Suppose we have two tables: A and B.\n",
        "\n",
        "All rows in table A are included in the result set whether there are matching rows in table B or not.\n",
        "\n",
        "The statement returns a result set that includes:\n",
        "\n",
        "1.   Rows in table A (left table) that have corresponding rows in table B.\n",
        "2.   Rows in the table A table and the rows in the table B filled with NULL values in case the row from table A does not have any corresponding rows in table B.\n",
        "\n",
        "In other words, all rows in table A are included in the result set whether there are matching rows in table B or not.\n",
        "\n"
      ],
      "metadata": {
        "id": "dmMn2FSM9jvQ"
      }
    },
    {
      "cell_type": "markdown",
      "source": [
        "One album belongs to one artist. However, one artist may have zero or more albums.\n",
        "\n",
        "To find artists who do not have any albums by using the `LEFT JOIN` clause, we select artists and their corresponding albums. If an artist does not have any albums, the value of the `AlbumId` column is `NULL`.\n",
        "\n",
        "To display the artists who do not have any albums first, we have two choices:\n",
        "\n",
        "First, use ORDER BY clause to list the rows whose AlbumId is NULL values first.\n",
        "\n",
        "\n"
      ],
      "metadata": {
        "id": "XcxeniwS_bUu"
      }
    },
    {
      "cell_type": "code",
      "source": [
        "%%sql\n",
        "SELECT\n",
        "   artists.ArtistId\n",
        "   , AlbumId\n",
        "FROM\n",
        "   artists\n",
        "LEFT JOIN albums ON\n",
        "   albums.ArtistId = artists.ArtistId\n",
        "WHERE\n",
        "   AlbumId IS NULL"
      ],
      "metadata": {
        "id": "vKd-HXFOvIFn"
      },
      "execution_count": null,
      "outputs": []
    },
    {
      "cell_type": "code",
      "source": [
        "%%sql\n",
        "SELECT COUNT(*)\n",
        "FROM Artists"
      ],
      "metadata": {
        "id": "ByjFccEHMQMF"
      },
      "execution_count": null,
      "outputs": []
    },
    {
      "cell_type": "markdown",
      "source": [
        "# Practice by Szymon"
      ],
      "metadata": {
        "id": "8qllvSIiz1Mg"
      }
    },
    {
      "cell_type": "markdown",
      "source": [
        "which track is sold the largest number of times\n",
        "\n"
      ],
      "metadata": {
        "id": "dk3TvlF457Eh"
      }
    },
    {
      "cell_type": "code",
      "source": [
        "%%sql\n",
        "SELECT\n",
        "InvoiceLineId,\n",
        "InvoiceId,\n",
        "TrackId,\n",
        "unitprice,\n",
        "quantity,\n",
        "unitprice * quantity AS \"Number_of_Sell\"\n",
        "FROM\n",
        "  invoice_items\n",
        "ORDER BY Number_of_Sell\n",
        "LIMIT 20"
      ],
      "metadata": {
        "id": "CzR098_MWgGG"
      },
      "execution_count": null,
      "outputs": []
    },
    {
      "cell_type": "markdown",
      "source": [
        "which genre of music brings the highest income\n",
        "\n"
      ],
      "metadata": {
        "id": "eh9fTvX354Y5"
      }
    },
    {
      "cell_type": "code",
      "source": [
        "%%sql\n",
        "SELECT COUNT(*)\n",
        "FROM\n",
        "invoice_items"
      ],
      "metadata": {
        "id": "jdLNxuCNArvc"
      },
      "execution_count": null,
      "outputs": []
    }
  ]
}