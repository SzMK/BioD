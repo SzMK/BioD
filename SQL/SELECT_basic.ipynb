{
  "cells": [
    {
      "cell_type": "markdown",
      "id": "db2128e6",
      "metadata": {
        "id": "db2128e6"
      },
      "source": [
        "# Packages and database files needed for this project"
      ]
    },
    {
      "cell_type": "markdown",
      "id": "0e07a946",
      "metadata": {
        "id": "0e07a946"
      },
      "source": [
        "*Note:* This section is repeated in several notebooks in order to make them functional as independent lectures."
      ]
    },
    {
      "cell_type": "markdown",
      "id": "6612d770",
      "metadata": {
        "id": "6612d770"
      },
      "source": [
        "Import needed packages:"
      ]
    },
    {
      "cell_type": "code",
      "execution_count": null,
      "id": "9e9677de",
      "metadata": {
        "id": "9e9677de"
      },
      "outputs": [],
      "source": [
        "import urllib.request    # needed for download of the example database\n",
        "import shutil            # needed for unziping of the example database\n",
        "\n",
        "from sqlalchemy import * # package providing unified access to various databases"
      ]
    },
    {
      "cell_type": "markdown",
      "id": "589c6b99",
      "metadata": {
        "id": "589c6b99"
      },
      "source": [
        "If necessary, download the database:"
      ]
    },
    {
      "cell_type": "code",
      "execution_count": null,
      "id": "1e63454c",
      "metadata": {
        "id": "1e63454c"
      },
      "outputs": [],
      "source": [
        "import urllib.request    # needed for download of the example database\n",
        "import shutil            # needed for unziping of the example database\n",
        "import os                # for checking existence/removing of a file"
      ]
    },
    {
      "cell_type": "code",
      "execution_count": null,
      "id": "95d9cdda",
      "metadata": {
        "id": "95d9cdda"
      },
      "outputs": [],
      "source": [
        "if not os.path.isfile(\"chinook.db\"):\n",
        "    urllib.request.urlretrieve(\"https://www.sqlitetutorial.net/wp-content/uploads/2018/03/chinook.zip\", \"chinook.zip\")\n",
        "    shutil.unpack_archive(\"chinook.zip\")\n",
        "    os.remove(\"chinook.zip\")"
      ]
    },
    {
      "cell_type": "markdown",
      "id": "e2e426d0",
      "metadata": {
        "id": "e2e426d0"
      },
      "source": [
        "In this session we use the magic database connector. Install `ipython-sql` when necessary."
      ]
    },
    {
      "cell_type": "code",
      "execution_count": null,
      "id": "521a990f",
      "metadata": {
        "id": "521a990f"
      },
      "outputs": [],
      "source": [
        "#pip install ipython-sql #In case the SQLite not working in Jupyter\n",
        "%load_ext sql\n",
        "%sql sqlite:///chinook.db"
      ]
    },
    {
      "cell_type": "markdown",
      "id": "f099e9fa",
      "metadata": {
        "id": "f099e9fa"
      },
      "source": [
        "# SELECT - querying the database"
      ]
    },
    {
      "cell_type": "markdown",
      "id": "a3ff5cb4",
      "metadata": {
        "id": "a3ff5cb4"
      },
      "source": [
        "## Selecting some/all columns and their order"
      ]
    },
    {
      "cell_type": "markdown",
      "id": "32a95c13",
      "metadata": {
        "id": "32a95c13"
      },
      "source": [
        "Write the 1st query to retrieve some data of several (first five) customers from this database:\n",
        "- after `SELECT` you write the name(s) of the column(s) that we want to retireve\n",
        "- after `FROM` you write the name of the table\n",
        "- the optional part `LIMIT` allows to specify how many rows to show"
      ]
    },
    {
      "cell_type": "code",
      "execution_count": null,
      "id": "ebd27184",
      "metadata": {
        "id": "ebd27184"
      },
      "outputs": [],
      "source": [
        "%%sql\n",
        "SELECT FirstName, LastName\n",
        "  FROM customers \n",
        "  LIMIT 5"
      ]
    },
    {
      "cell_type": "markdown",
      "id": "aa3c2cd8",
      "metadata": {
        "id": "aa3c2cd8"
      },
      "source": [
        "We can retrieve all columns from the table using `*` instead of the column names:"
      ]
    },
    {
      "cell_type": "code",
      "execution_count": null,
      "id": "c4724287",
      "metadata": {
        "id": "c4724287"
      },
      "outputs": [],
      "source": [
        "%%sql\n",
        "SELECT * \n",
        "  FROM customers \n",
        "  LIMIT 5"
      ]
    },
    {
      "cell_type": "markdown",
      "id": "0a4e84db",
      "metadata": {
        "id": "0a4e84db"
      },
      "source": [
        "The order of the names of the column define the order of columns in the table. It is also possible to directly perform arithmetic operations:"
      ]
    },
    {
      "cell_type": "code",
      "execution_count": null,
      "id": "740e6f56",
      "metadata": {
        "id": "740e6f56"
      },
      "outputs": [],
      "source": [
        "%%sql\n",
        "SELECT TrackId, Name, UnitPrice + 10\n",
        "  FROM tracks\n",
        "  LIMIT 5"
      ]
    },
    {
      "cell_type": "markdown",
      "id": "5dd1fa6e",
      "metadata": {
        "id": "5dd1fa6e"
      },
      "source": [
        "## LIMIT - limiting the number of returned rows"
      ]
    },
    {
      "cell_type": "markdown",
      "id": "a23ae2a4",
      "metadata": {
        "id": "a23ae2a4"
      },
      "source": [
        "Simple limit of the records returned from the query:"
      ]
    },
    {
      "cell_type": "code",
      "execution_count": null,
      "id": "6a6e513d",
      "metadata": {
        "id": "6a6e513d"
      },
      "outputs": [],
      "source": [
        "%%sql\n",
        "SELECT TrackId, Name\n",
        "  FROM tracks\n",
        "  LIMIT 3"
      ]
    },
    {
      "cell_type": "markdown",
      "id": "fc993a0a",
      "metadata": {
        "id": "fc993a0a"
      },
      "source": [
        "*Note:* if you want to get the first 10 rows starting from the 10th row of the result set, you use `OFFSET` keyword:"
      ]
    },
    {
      "cell_type": "code",
      "execution_count": null,
      "id": "739e8886",
      "metadata": {
        "id": "739e8886"
      },
      "outputs": [],
      "source": [
        "%%sql\n",
        "SELECT TrackId, Name\n",
        "  FROM tracks\n",
        "  LIMIT 3 OFFSET 10"
      ]
    },
    {
      "cell_type": "markdown",
      "id": "caf6b31d",
      "metadata": {
        "id": "caf6b31d"
      },
      "source": [
        "## AS - renaming columns"
      ]
    },
    {
      "cell_type": "markdown",
      "id": "8808d597",
      "metadata": {
        "id": "8808d597"
      },
      "source": [
        "To provide an own name to a column use the `AS` keyword. Put the new name in quotes:"
      ]
    },
    {
      "cell_type": "code",
      "execution_count": null,
      "id": "32907487",
      "metadata": {
        "id": "32907487"
      },
      "outputs": [],
      "source": [
        "%%sql\n",
        "SELECT TrackId, Name, UnitPrice, UnitPrice + 10 AS 'NewUnitPrice'\n",
        "  FROM tracks\n",
        "  LIMIT 5"
      ]
    },
    {
      "cell_type": "markdown",
      "id": "b05cb147",
      "metadata": {
        "id": "b05cb147"
      },
      "source": [
        "## ORDER - sorting rows"
      ]
    },
    {
      "cell_type": "markdown",
      "id": "d5d85b6b",
      "metadata": {
        "id": "d5d85b6b"
      },
      "source": [
        "With `ORDER BY` you define the sorting order. Additional keywords:\n",
        "- The `ASC` keyword means ascending (default, when you don't specify).\n",
        "- The `DESC` keyword means descending."
      ]
    },
    {
      "cell_type": "code",
      "execution_count": null,
      "id": "db0aead7",
      "metadata": {
        "id": "db0aead7"
      },
      "outputs": [],
      "source": [
        "%%sql\n",
        "SELECT Name, Milliseconds, AlbumId\n",
        "  FROM tracks\n",
        "  ORDER BY AlbumId DESC\n",
        "  LIMIT 10"
      ]
    },
    {
      "cell_type": "markdown",
      "id": "674d77f4",
      "metadata": {
        "id": "674d77f4"
      },
      "source": [
        "## DISTINCT - select unique rows (remove duplicated rows)"
      ]
    },
    {
      "cell_type": "markdown",
      "id": "4e7dd2fb",
      "metadata": {
        "id": "4e7dd2fb"
      },
      "source": [
        "With `DISTINCT` you force duplicate rows to be removed from the query result. Compare the following two queries:"
      ]
    },
    {
      "cell_type": "code",
      "execution_count": null,
      "id": "5e548456",
      "metadata": {
        "id": "5e548456"
      },
      "outputs": [],
      "source": [
        "%%sql \n",
        "SELECT City\n",
        "  FROM customers\n",
        "  LIMIT 10"
      ]
    },
    {
      "cell_type": "code",
      "execution_count": null,
      "id": "95c1d6fd",
      "metadata": {
        "id": "95c1d6fd"
      },
      "outputs": [],
      "source": [
        "%%sql \n",
        "SELECT DISTINCT City\n",
        "  FROM customers\n",
        "  LIMIT 10"
      ]
    },
    {
      "cell_type": "markdown",
      "id": "b77c1e01",
      "metadata": {
        "id": "b77c1e01"
      },
      "source": [
        "## WHERE - selecting rows by a condition"
      ]
    },
    {
      "cell_type": "markdown",
      "id": "d9d6ba05",
      "metadata": {
        "id": "d9d6ba05"
      },
      "source": [
        "### Relational operators"
      ]
    },
    {
      "cell_type": "markdown",
      "id": "bef9583c",
      "metadata": {
        "id": "bef9583c"
      },
      "source": [
        "Let's filter all tracks for which: `millisconds > 300000`:"
      ]
    },
    {
      "cell_type": "code",
      "execution_count": null,
      "id": "fbff785b",
      "metadata": {
        "id": "fbff785b"
      },
      "outputs": [],
      "source": [
        "%%sql\n",
        "SELECT TrackId, Milliseconds\n",
        "  FROM tracks\n",
        "  WHERE Milliseconds > 300000\n",
        "  LIMIT 5"
      ]
    },
    {
      "cell_type": "markdown",
      "id": "1b85f2fe",
      "metadata": {
        "id": "1b85f2fe"
      },
      "source": [
        "SQL uses the following relational operators: `>`, `>=`, `<`, `<=`, `=` (equality), `!=` or `<>` (both inequality).  \n",
        "Let's find customers from Prague:"
      ]
    },
    {
      "cell_type": "code",
      "execution_count": null,
      "id": "efc75118",
      "metadata": {
        "id": "efc75118"
      },
      "outputs": [],
      "source": [
        "%%sql\n",
        "SELECT FirstName, LastName, City \n",
        "  FROM customers\n",
        "  WHERE City = 'Prague'"
      ]
    },
    {
      "cell_type": "markdown",
      "id": "1d1f2ec0",
      "metadata": {
        "id": "1d1f2ec0"
      },
      "source": [
        "### OR, AND, NOT - Logical operators"
      ]
    },
    {
      "cell_type": "markdown",
      "id": "7fa6a6db",
      "metadata": {
        "id": "7fa6a6db"
      },
      "source": [
        "Understand the following examples of `OR`, `AND`, `NOT`:"
      ]
    },
    {
      "cell_type": "code",
      "execution_count": null,
      "id": "a5fa2622",
      "metadata": {
        "id": "a5fa2622"
      },
      "outputs": [],
      "source": [
        "%%sql\n",
        "SELECT FirstName, Country\n",
        "  FROM customers \n",
        "  WHERE Country = \"Netherlands\" OR Country = \"Germany\"\n",
        "  LIMIT 5"
      ]
    },
    {
      "cell_type": "code",
      "execution_count": null,
      "id": "5264a3b8",
      "metadata": {
        "id": "5264a3b8"
      },
      "outputs": [],
      "source": [
        "%%sql\n",
        "SELECT FirstName, Country\n",
        "  FROM customers \n",
        "  WHERE NOT( Country = \"Netherlands\" OR Country = \"Germany\" )\n",
        "  LIMIT 5"
      ]
    },
    {
      "cell_type": "code",
      "execution_count": null,
      "id": "f120c9a7",
      "metadata": {
        "id": "f120c9a7"
      },
      "outputs": [],
      "source": [
        "%%sql\n",
        "SELECT *\n",
        "  FROM invoice_items\n",
        "  WHERE InvoiceId = 26 AND TrackId > 850"
      ]
    },
    {
      "cell_type": "markdown",
      "id": "a9986e0d",
      "metadata": {
        "id": "a9986e0d"
      },
      "source": [
        "## IS NULL - Value is missing"
      ]
    },
    {
      "cell_type": "markdown",
      "id": "617f66cd",
      "metadata": {
        "id": "617f66cd"
      },
      "source": [
        "The following statement attempts to find tracks whose composers are NULL: `IS NULL`.  \n",
        "\n",
        "To find the tracks whose composers are not NULL, use: `IS NOT NULL`."
      ]
    },
    {
      "cell_type": "code",
      "execution_count": null,
      "id": "6fab4a44",
      "metadata": {
        "id": "6fab4a44"
      },
      "outputs": [],
      "source": [
        "%%sql\n",
        "SELECT Name, Composer\n",
        "  FROM tracks\n",
        "  WHERE Composer IS NULL\n",
        "  LIMIT 5"
      ]
    },
    {
      "cell_type": "markdown",
      "id": "567c2389",
      "metadata": {
        "id": "567c2389"
      },
      "source": [
        "## IN - Set membership (for categorical variables)"
      ]
    },
    {
      "cell_type": "markdown",
      "id": "da6ebf96",
      "metadata": {
        "id": "da6ebf96"
      },
      "source": [
        "Compare the following two notations to test whether a value belongs to a set.  \n",
        "The `OR` notation works only with a fixed set of values and does not scale well:"
      ]
    },
    {
      "cell_type": "code",
      "execution_count": null,
      "id": "ab1fa988",
      "metadata": {
        "id": "ab1fa988"
      },
      "outputs": [],
      "source": [
        "%%sql\n",
        "SELECT *\n",
        "  FROM customers\n",
        "  WHERE country = \"Brazil\" OR country = \"Finland\" OR country = \"Poland\" OR country = \"Spain\""
      ]
    },
    {
      "cell_type": "markdown",
      "id": "8e5ad168",
      "metadata": {
        "id": "8e5ad168"
      },
      "source": [
        "The `IN` notation might use a directly written list but also a result of a subquery (not shown here)."
      ]
    },
    {
      "cell_type": "code",
      "execution_count": null,
      "id": "73dc656e",
      "metadata": {
        "id": "73dc656e"
      },
      "outputs": [],
      "source": [
        "%%sql\n",
        "SELECT *\n",
        "  FROM customers\n",
        "  WHERE country IN (\"Brazil\", \"Finland\", \"Poland\", \"Spain\")"
      ]
    },
    {
      "cell_type": "markdown",
      "id": "e7c9ec13",
      "metadata": {
        "id": "e7c9ec13"
      },
      "source": [
        "##  BETWEEN - Value in range (for numerical variables)"
      ]
    },
    {
      "cell_type": "markdown",
      "id": "f3acff50",
      "metadata": {
        "id": "f3acff50"
      },
      "source": [
        "Use `BETWEEN` (and `NOT BETWEEN`) to find whether a value is in (or out) a certain range.\n",
        "\n",
        "How to find invoices whose invoice dates are from January 1 2010 and January 31 2010?"
      ]
    },
    {
      "cell_type": "code",
      "execution_count": null,
      "id": "9bcf1665",
      "metadata": {
        "id": "9bcf1665"
      },
      "outputs": [],
      "source": [
        "%%sql\n",
        "SELECT InvoiceId, BillingAddress, InvoiceDate, Total\n",
        "  FROM invoices\n",
        "  WHERE InvoiceDate BETWEEN '2010-01-01' AND '2010-01-31'\n",
        "  ORDER BY InvoiceDate"
      ]
    },
    {
      "cell_type": "markdown",
      "id": "e3470003",
      "metadata": {
        "id": "e3470003"
      },
      "source": [
        "## LIKE - Value matches a pattern (for text variables)"
      ]
    },
    {
      "cell_type": "markdown",
      "id": "27b9baeb",
      "metadata": {
        "id": "27b9baeb"
      },
      "source": [
        "Sometimes, you don’t know exactly the complete keyword that you want to query. For example, you may know that your most favorite song contains the word `elevator` but you don’t know exactly the name."
      ]
    },
    {
      "cell_type": "markdown",
      "id": "3b34e490",
      "metadata": {
        "id": "3b34e490"
      },
      "source": [
        "1) To find the tracks whose names start with the `Wild` string, you use the percent sign `%` wildcard at the end of the pattern.\n",
        "\n",
        "2) To find the tracks whose names end with `Wild` word, you use `%` wildcard at the beginning of the pattern.\n",
        "\n",
        "3) To find the tracks whose names contain the `Wild` literal string, you use `%` wildcard at the beginning and end of the pattern:"
      ]
    },
    {
      "cell_type": "code",
      "execution_count": null,
      "id": "43cc632b",
      "metadata": {
        "id": "43cc632b"
      },
      "outputs": [],
      "source": [
        "%%sql\n",
        "SELECT TrackId, Name\n",
        "  FROM tracks\n",
        "  WHERE Name LIKE 'Wild%'"
      ]
    },
    {
      "cell_type": "markdown",
      "id": "f212e5e5",
      "metadata": {
        "id": "f212e5e5"
      },
      "source": [
        "Get track name by exact number of charchters and finish by `y`:"
      ]
    },
    {
      "cell_type": "code",
      "execution_count": null,
      "id": "1ea8c8cd",
      "metadata": {
        "id": "1ea8c8cd"
      },
      "outputs": [],
      "source": [
        "%%sql\n",
        "SELECT Trackid, Name\n",
        "  FROM tracks\n",
        "  WHERE Name LIKE '___y'"
      ]
    }
  ],
  "metadata": {
    "kernelspec": {
      "display_name": "Python [conda env:jupyter]",
      "language": "python",
      "name": "conda-env-jupyter-py"
    },
    "language_info": {
      "codemirror_mode": {
        "name": "ipython",
        "version": 3
      },
      "file_extension": ".py",
      "mimetype": "text/x-python",
      "name": "python",
      "nbconvert_exporter": "python",
      "pygments_lexer": "ipython3",
      "version": "3.10.0"
    },
    "colab": {
      "name": "SELECT_basic.ipynb",
      "provenance": []
    }
  },
  "nbformat": 4,
  "nbformat_minor": 5
}